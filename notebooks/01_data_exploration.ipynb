{
 "cells": [
  {
   "cell_type": "markdown",
   "id": "4df48b1e",
   "metadata": {},
   "source": [
    "### Libraries"
   ]
  },
  {
   "cell_type": "code",
   "execution_count": null,
   "id": "ce8a8d40",
   "metadata": {},
   "outputs": [],
   "source": [
    "import numpy as np\n",
    "import pandas as pd\n",
    "\n",
    "import matplotlib.pylab as plt\n",
    "import seaborn as sns\n",
    "sns.set_theme(style='ticks', font_scale=1)\n",
    "\n",
    "import mlflow\n",
    "from scipy.io import arff\n",
    "from scipy.stats import skew, norm, boxcox_normmax, zscore\n",
    "from sklearn.impute import SimpleImputer\n",
    "from sklearn.preprocessing import StandardScaler\n",
    "\n",
    "from pathlib import Path\n",
    "Root = Path('.').absolute().parent\n",
    "DATA = Root/ r'C:\\Users\\Admin\\Projects\\ML Projects\\bankruptcy_prediction\\data'"
   ]
  },
  {
   "cell_type": "code",
   "execution_count": 1,
   "metadata": {},
   "outputs": [
    {
     "name": "stdout",
     "output_type": "stream",
     "text": [
      "[100, 1000, 10, 100, 1, 5]\n"
     ]
    }
   ],
   "source": [
    "x = [1000, 100, 1000, 10, 100, 1, 5]\n",
    "x.pop(0)\n",
    "print(x)"
   ]
  },
  {
   "cell_type": "markdown",
   "id": "6abd3834",
   "metadata": {},
   "source": [
    "### EDA"
   ]
  },
  {
   "cell_type": "code",
   "execution_count": null,
   "id": "0816c914",
   "metadata": {},
   "outputs": [
    {
     "data": {
      "application/vnd.microsoft.datawrangler.viewer.v0+json": {
       "columns": [
        {
         "name": "index",
         "rawType": "int64",
         "type": "integer"
        },
        {
         "name": "A1",
         "rawType": "float64",
         "type": "float"
        },
        {
         "name": "A2",
         "rawType": "float64",
         "type": "float"
        },
        {
         "name": "A3",
         "rawType": "float64",
         "type": "float"
        },
        {
         "name": "A4",
         "rawType": "float64",
         "type": "float"
        },
        {
         "name": "A5",
         "rawType": "float64",
         "type": "float"
        },
        {
         "name": "A6",
         "rawType": "float64",
         "type": "float"
        },
        {
         "name": "A7",
         "rawType": "float64",
         "type": "float"
        },
        {
         "name": "A8",
         "rawType": "float64",
         "type": "float"
        },
        {
         "name": "A9",
         "rawType": "float64",
         "type": "float"
        },
        {
         "name": "A10",
         "rawType": "float64",
         "type": "float"
        },
        {
         "name": "A11",
         "rawType": "float64",
         "type": "float"
        },
        {
         "name": "A12",
         "rawType": "float64",
         "type": "float"
        },
        {
         "name": "A13",
         "rawType": "float64",
         "type": "float"
        },
        {
         "name": "A14",
         "rawType": "float64",
         "type": "float"
        },
        {
         "name": "A15",
         "rawType": "float64",
         "type": "float"
        },
        {
         "name": "A16",
         "rawType": "float64",
         "type": "float"
        },
        {
         "name": "A17",
         "rawType": "float64",
         "type": "float"
        },
        {
         "name": "A18",
         "rawType": "float64",
         "type": "float"
        },
        {
         "name": "A19",
         "rawType": "float64",
         "type": "float"
        },
        {
         "name": "A20",
         "rawType": "float64",
         "type": "float"
        },
        {
         "name": "A21",
         "rawType": "float64",
         "type": "float"
        },
        {
         "name": "A22",
         "rawType": "float64",
         "type": "float"
        },
        {
         "name": "A23",
         "rawType": "float64",
         "type": "float"
        },
        {
         "name": "A24",
         "rawType": "float64",
         "type": "float"
        },
        {
         "name": "A25",
         "rawType": "float64",
         "type": "float"
        },
        {
         "name": "A26",
         "rawType": "float64",
         "type": "float"
        },
        {
         "name": "A27",
         "rawType": "float64",
         "type": "float"
        },
        {
         "name": "A28",
         "rawType": "float64",
         "type": "float"
        },
        {
         "name": "A29",
         "rawType": "float64",
         "type": "float"
        },
        {
         "name": "A30",
         "rawType": "float64",
         "type": "float"
        },
        {
         "name": "A31",
         "rawType": "float64",
         "type": "float"
        },
        {
         "name": "A32",
         "rawType": "float64",
         "type": "float"
        },
        {
         "name": "A33",
         "rawType": "float64",
         "type": "float"
        },
        {
         "name": "A34",
         "rawType": "float64",
         "type": "float"
        },
        {
         "name": "A35",
         "rawType": "float64",
         "type": "float"
        },
        {
         "name": "A36",
         "rawType": "float64",
         "type": "float"
        },
        {
         "name": "A37",
         "rawType": "float64",
         "type": "float"
        },
        {
         "name": "A38",
         "rawType": "float64",
         "type": "float"
        },
        {
         "name": "A39",
         "rawType": "float64",
         "type": "float"
        },
        {
         "name": "A40",
         "rawType": "float64",
         "type": "float"
        },
        {
         "name": "A41",
         "rawType": "float64",
         "type": "float"
        },
        {
         "name": "A42",
         "rawType": "float64",
         "type": "float"
        },
        {
         "name": "A43",
         "rawType": "float64",
         "type": "float"
        },
        {
         "name": "A44",
         "rawType": "float64",
         "type": "float"
        },
        {
         "name": "A45",
         "rawType": "float64",
         "type": "float"
        },
        {
         "name": "A46",
         "rawType": "float64",
         "type": "float"
        },
        {
         "name": "A47",
         "rawType": "float64",
         "type": "float"
        },
        {
         "name": "A48",
         "rawType": "float64",
         "type": "float"
        },
        {
         "name": "A49",
         "rawType": "float64",
         "type": "float"
        },
        {
         "name": "A50",
         "rawType": "float64",
         "type": "float"
        },
        {
         "name": "A51",
         "rawType": "float64",
         "type": "float"
        },
        {
         "name": "A52",
         "rawType": "float64",
         "type": "float"
        },
        {
         "name": "A53",
         "rawType": "float64",
         "type": "float"
        },
        {
         "name": "A54",
         "rawType": "float64",
         "type": "float"
        },
        {
         "name": "A55",
         "rawType": "float64",
         "type": "float"
        },
        {
         "name": "A56",
         "rawType": "float64",
         "type": "float"
        },
        {
         "name": "A57",
         "rawType": "float64",
         "type": "float"
        },
        {
         "name": "A58",
         "rawType": "float64",
         "type": "float"
        },
        {
         "name": "A59",
         "rawType": "float64",
         "type": "float"
        },
        {
         "name": "A60",
         "rawType": "float64",
         "type": "float"
        },
        {
         "name": "A61",
         "rawType": "float64",
         "type": "float"
        },
        {
         "name": "A62",
         "rawType": "float64",
         "type": "float"
        },
        {
         "name": "A63",
         "rawType": "float64",
         "type": "float"
        },
        {
         "name": "A64",
         "rawType": "float64",
         "type": "float"
        },
        {
         "name": "class",
         "rawType": "int64",
         "type": "integer"
        },
        {
         "name": "year",
         "rawType": "int64",
         "type": "integer"
        }
       ],
       "ref": "6f9f1bd3-c01f-43a4-99fd-378f4f1e6697",
       "rows": [
        [
         "0",
         "0.20055",
         "0.37951",
         "0.39641",
         "2.0472",
         "32.351",
         "0.38825",
         "0.24976",
         "1.3305",
         "1.1389",
         "0.50494",
         "0.24976",
         "0.6598",
         "0.1666",
         "0.24976",
         "497.42",
         "0.73378",
         "2.6349",
         "0.24976",
         "0.14942",
         "43.37",
         "1.2479",
         "0.21402",
         "0.11998",
         "0.47706",
         "0.50494",
         "0.60411",
         "1.4582",
         "1.7615",
         "5.9443",
         "0.11788",
         "0.14942",
         "94.14",
         "3.8772",
         "0.56393",
         "0.21402",
         "1.741",
         "593.27",
         "0.50591",
         "0.12804",
         "0.66295",
         "0.051402",
         "0.12804",
         "114.42",
         "71.05",
         "1.0097",
         "1.5225",
         "49.394",
         "0.1853",
         "0.11085",
         "2.042",
         "0.37854",
         "0.25792",
         "2.2437",
         "2.248",
         "348690.0",
         "0.12196",
         "0.39718",
         "0.87804",
         "0.001924",
         "8.416",
         "5.1372",
         "82.658",
         "4.4158",
         "7.4277",
         "0",
         "1"
        ],
        [
         "1",
         "0.20912",
         "0.49988",
         "0.47225",
         "1.9447",
         "14.786",
         "0.0",
         "0.25834",
         "0.99601",
         "1.6996",
         "0.49788",
         "0.26114",
         "0.5168",
         "0.15835",
         "0.25834",
         "677.96",
         "0.53838",
         "2.0005",
         "0.25834",
         "0.152",
         "87.981",
         "1.4293",
         "0.24806",
         "0.12304",
         null,
         "0.39542",
         "0.43992",
         "88.444",
         "16.946",
         "3.6884",
         "0.26969",
         "0.152",
         "122.17",
         "2.9876",
         "2.9876",
         "0.20616",
         "1.6996",
         null,
         "0.49788",
         "0.1213",
         "0.086422",
         "0.064371",
         "0.14595",
         "199.49",
         "111.51",
         "0.51045",
         "1.1252",
         "100.13",
         "0.23727",
         "0.13961",
         "1.9447",
         "0.49988",
         "0.33472",
         "17.866",
         "17.866",
         "2304.6",
         "0.1213",
         "0.42002",
         "0.853",
         "0.0",
         "4.1486",
         "3.2732",
         "107.35",
         "3.4",
         "60.987",
         "0",
         "1"
        ],
        [
         "2",
         "0.24866",
         "0.69592",
         "0.26713",
         "1.5548",
         "-1.1523",
         "0.0",
         "0.30906",
         "0.43695",
         "1.309",
         "0.30408",
         "0.31258",
         "0.64184",
         "0.24435",
         "0.30906",
         "794.16",
         "0.45961",
         "1.4369",
         "0.30906",
         "0.2361",
         "73.133",
         "1.4283",
         "0.3026",
         "0.18996",
         null,
         "0.28932",
         "0.37282",
         "86.011",
         "1.0627",
         "4.3749",
         "0.41929",
         "0.23815",
         "176.93",
         "2.063",
         "1.4274",
         "0.31565",
         "1.309",
         "2.3019",
         "0.51537",
         "0.24114",
         "0.32202",
         "0.07402",
         "0.23117",
         "165.51",
         "92.381",
         "0.94807",
         "1.0101",
         "96.372",
         "0.29181",
         "0.22293",
         "1.0758",
         "0.48152",
         "0.48474",
         "1.2098",
         "2.0504",
         "6332.7",
         "0.24114",
         "0.81774",
         "0.76599",
         "0.69484",
         "4.9909",
         "3.951",
         "134.27",
         "2.7185",
         "5.2078",
         "0",
         "1"
        ],
        [
         "3",
         "0.081483",
         "0.30734",
         "0.45879",
         "2.4928",
         "51.952",
         "0.14988",
         "0.092704",
         "1.8661",
         "1.0571",
         "0.57353",
         "0.092704",
         "0.30163",
         "0.094257",
         "0.092704",
         "917.01",
         "0.39803",
         "3.2537",
         "0.092704",
         "0.071428",
         "79.788",
         "1.5069",
         "0.1155",
         "0.062782",
         "0.17193",
         "0.57353",
         "0.36152",
         "0.94076",
         "1.9618",
         "4.6511",
         "0.14343",
         "0.071428",
         "91.37",
         "3.9948",
         "0.37581",
         "0.1155",
         "1.3562",
         null,
         "0.57353",
         "0.088995",
         "0.40139",
         "0.069622",
         "0.088995",
         "180.77",
         "100.98",
         "0.2872",
         "1.5696",
         "84.344",
         "0.085874",
         "0.066165",
         "2.4928",
         "0.30734",
         "0.25033",
         "2.4524",
         "2.4524",
         "20545.0",
         "0.054015",
         "0.14207",
         "0.94598",
         "0.0",
         "4.5746",
         "3.6147",
         "86.435",
         "4.2228",
         "5.5497",
         "0",
         "1"
        ],
        [
         "4",
         "0.18732",
         "0.61323",
         "0.2296",
         "1.4063",
         "-7.3128",
         "0.18732",
         "0.18732",
         "0.6307",
         "1.1559",
         "0.38677",
         "0.18732",
         "0.33147",
         "0.12182",
         "0.18732",
         "1133.2",
         "0.32211",
         "1.6307",
         "0.18732",
         "0.11553",
         "57.045",
         null,
         "0.19832",
         "0.11553",
         "0.18732",
         "0.38677",
         "0.32211",
         "1.4138",
         "1.1184",
         "4.1424",
         "0.27884",
         "0.11553",
         "147.04",
         "2.4823",
         "0.3234",
         "0.19832",
         "1.6278",
         "11.247",
         "0.43489",
         "0.12231",
         "0.29304",
         "0.09668",
         "0.12231",
         "141.62",
         "84.574",
         "0.73919",
         "0.95787",
         "65.936",
         "0.18811",
         "0.11601",
         "1.2959",
         "0.56511",
         "0.40285",
         "1.8839",
         "2.1184",
         "3186.6",
         "0.13485",
         "0.48431",
         "0.86515",
         "0.12444",
         "6.3985",
         "4.3158",
         "127.21",
         "2.8692",
         "7.898",
         "0",
         "1"
        ]
       ],
       "shape": {
        "columns": 66,
        "rows": 5
       }
      },
      "text/html": [
       "<div>\n",
       "<style scoped>\n",
       "    .dataframe tbody tr th:only-of-type {\n",
       "        vertical-align: middle;\n",
       "    }\n",
       "\n",
       "    .dataframe tbody tr th {\n",
       "        vertical-align: top;\n",
       "    }\n",
       "\n",
       "    .dataframe thead th {\n",
       "        text-align: right;\n",
       "    }\n",
       "</style>\n",
       "<table border=\"1\" class=\"dataframe\">\n",
       "  <thead>\n",
       "    <tr style=\"text-align: right;\">\n",
       "      <th></th>\n",
       "      <th>A1</th>\n",
       "      <th>A2</th>\n",
       "      <th>A3</th>\n",
       "      <th>A4</th>\n",
       "      <th>A5</th>\n",
       "      <th>A6</th>\n",
       "      <th>A7</th>\n",
       "      <th>A8</th>\n",
       "      <th>A9</th>\n",
       "      <th>A10</th>\n",
       "      <th>...</th>\n",
       "      <th>A57</th>\n",
       "      <th>A58</th>\n",
       "      <th>A59</th>\n",
       "      <th>A60</th>\n",
       "      <th>A61</th>\n",
       "      <th>A62</th>\n",
       "      <th>A63</th>\n",
       "      <th>A64</th>\n",
       "      <th>class</th>\n",
       "      <th>year</th>\n",
       "    </tr>\n",
       "  </thead>\n",
       "  <tbody>\n",
       "    <tr>\n",
       "      <th>0</th>\n",
       "      <td>0.200550</td>\n",
       "      <td>0.37951</td>\n",
       "      <td>0.39641</td>\n",
       "      <td>2.0472</td>\n",
       "      <td>32.3510</td>\n",
       "      <td>0.38825</td>\n",
       "      <td>0.249760</td>\n",
       "      <td>1.33050</td>\n",
       "      <td>1.1389</td>\n",
       "      <td>0.50494</td>\n",
       "      <td>...</td>\n",
       "      <td>0.39718</td>\n",
       "      <td>0.87804</td>\n",
       "      <td>0.001924</td>\n",
       "      <td>8.4160</td>\n",
       "      <td>5.1372</td>\n",
       "      <td>82.658</td>\n",
       "      <td>4.4158</td>\n",
       "      <td>7.4277</td>\n",
       "      <td>0</td>\n",
       "      <td>1</td>\n",
       "    </tr>\n",
       "    <tr>\n",
       "      <th>1</th>\n",
       "      <td>0.209120</td>\n",
       "      <td>0.49988</td>\n",
       "      <td>0.47225</td>\n",
       "      <td>1.9447</td>\n",
       "      <td>14.7860</td>\n",
       "      <td>0.00000</td>\n",
       "      <td>0.258340</td>\n",
       "      <td>0.99601</td>\n",
       "      <td>1.6996</td>\n",
       "      <td>0.49788</td>\n",
       "      <td>...</td>\n",
       "      <td>0.42002</td>\n",
       "      <td>0.85300</td>\n",
       "      <td>0.000000</td>\n",
       "      <td>4.1486</td>\n",
       "      <td>3.2732</td>\n",
       "      <td>107.350</td>\n",
       "      <td>3.4000</td>\n",
       "      <td>60.9870</td>\n",
       "      <td>0</td>\n",
       "      <td>1</td>\n",
       "    </tr>\n",
       "    <tr>\n",
       "      <th>2</th>\n",
       "      <td>0.248660</td>\n",
       "      <td>0.69592</td>\n",
       "      <td>0.26713</td>\n",
       "      <td>1.5548</td>\n",
       "      <td>-1.1523</td>\n",
       "      <td>0.00000</td>\n",
       "      <td>0.309060</td>\n",
       "      <td>0.43695</td>\n",
       "      <td>1.3090</td>\n",
       "      <td>0.30408</td>\n",
       "      <td>...</td>\n",
       "      <td>0.81774</td>\n",
       "      <td>0.76599</td>\n",
       "      <td>0.694840</td>\n",
       "      <td>4.9909</td>\n",
       "      <td>3.9510</td>\n",
       "      <td>134.270</td>\n",
       "      <td>2.7185</td>\n",
       "      <td>5.2078</td>\n",
       "      <td>0</td>\n",
       "      <td>1</td>\n",
       "    </tr>\n",
       "    <tr>\n",
       "      <th>3</th>\n",
       "      <td>0.081483</td>\n",
       "      <td>0.30734</td>\n",
       "      <td>0.45879</td>\n",
       "      <td>2.4928</td>\n",
       "      <td>51.9520</td>\n",
       "      <td>0.14988</td>\n",
       "      <td>0.092704</td>\n",
       "      <td>1.86610</td>\n",
       "      <td>1.0571</td>\n",
       "      <td>0.57353</td>\n",
       "      <td>...</td>\n",
       "      <td>0.14207</td>\n",
       "      <td>0.94598</td>\n",
       "      <td>0.000000</td>\n",
       "      <td>4.5746</td>\n",
       "      <td>3.6147</td>\n",
       "      <td>86.435</td>\n",
       "      <td>4.2228</td>\n",
       "      <td>5.5497</td>\n",
       "      <td>0</td>\n",
       "      <td>1</td>\n",
       "    </tr>\n",
       "    <tr>\n",
       "      <th>4</th>\n",
       "      <td>0.187320</td>\n",
       "      <td>0.61323</td>\n",
       "      <td>0.22960</td>\n",
       "      <td>1.4063</td>\n",
       "      <td>-7.3128</td>\n",
       "      <td>0.18732</td>\n",
       "      <td>0.187320</td>\n",
       "      <td>0.63070</td>\n",
       "      <td>1.1559</td>\n",
       "      <td>0.38677</td>\n",
       "      <td>...</td>\n",
       "      <td>0.48431</td>\n",
       "      <td>0.86515</td>\n",
       "      <td>0.124440</td>\n",
       "      <td>6.3985</td>\n",
       "      <td>4.3158</td>\n",
       "      <td>127.210</td>\n",
       "      <td>2.8692</td>\n",
       "      <td>7.8980</td>\n",
       "      <td>0</td>\n",
       "      <td>1</td>\n",
       "    </tr>\n",
       "  </tbody>\n",
       "</table>\n",
       "<p>5 rows × 66 columns</p>\n",
       "</div>"
      ],
      "text/plain": [
       "         A1       A2       A3      A4       A5       A6        A7       A8  \\\n",
       "0  0.200550  0.37951  0.39641  2.0472  32.3510  0.38825  0.249760  1.33050   \n",
       "1  0.209120  0.49988  0.47225  1.9447  14.7860  0.00000  0.258340  0.99601   \n",
       "2  0.248660  0.69592  0.26713  1.5548  -1.1523  0.00000  0.309060  0.43695   \n",
       "3  0.081483  0.30734  0.45879  2.4928  51.9520  0.14988  0.092704  1.86610   \n",
       "4  0.187320  0.61323  0.22960  1.4063  -7.3128  0.18732  0.187320  0.63070   \n",
       "\n",
       "       A9      A10  ...      A57      A58       A59     A60     A61      A62  \\\n",
       "0  1.1389  0.50494  ...  0.39718  0.87804  0.001924  8.4160  5.1372   82.658   \n",
       "1  1.6996  0.49788  ...  0.42002  0.85300  0.000000  4.1486  3.2732  107.350   \n",
       "2  1.3090  0.30408  ...  0.81774  0.76599  0.694840  4.9909  3.9510  134.270   \n",
       "3  1.0571  0.57353  ...  0.14207  0.94598  0.000000  4.5746  3.6147   86.435   \n",
       "4  1.1559  0.38677  ...  0.48431  0.86515  0.124440  6.3985  4.3158  127.210   \n",
       "\n",
       "      A63      A64  class  year  \n",
       "0  4.4158   7.4277      0     1  \n",
       "1  3.4000  60.9870      0     1  \n",
       "2  2.7185   5.2078      0     1  \n",
       "3  4.2228   5.5497      0     1  \n",
       "4  2.8692   7.8980      0     1  \n",
       "\n",
       "[5 rows x 66 columns]"
      ]
     },
     "execution_count": 64,
     "metadata": {},
     "output_type": "execute_result"
    }
   ],
   "source": [
    "# arff_file = arff.loadarff(DATA/'1year.arff')\n",
    "df = pd.read_csv(DATA/'data.csv')\n",
    "df.head()"
   ]
  },
  {
   "cell_type": "code",
   "execution_count": null,
   "id": "e937ac16",
   "metadata": {},
   "outputs": [
    {
     "name": "stdout",
     "output_type": "stream",
     "text": [
      "<class 'pandas.core.frame.DataFrame'>\n",
      "RangeIndex: 43405 entries, 0 to 43404\n",
      "Data columns (total 66 columns):\n",
      " #   Column  Non-Null Count  Dtype  \n",
      "---  ------  --------------  -----  \n",
      " 0   A1      43397 non-null  float64\n",
      " 1   A2      43397 non-null  float64\n",
      " 2   A3      43397 non-null  float64\n",
      " 3   A4      43271 non-null  float64\n",
      " 4   A5      43316 non-null  float64\n",
      " 5   A6      43397 non-null  float64\n",
      " 6   A7      43397 non-null  float64\n",
      " 7   A8      43311 non-null  float64\n",
      " 8   A9      43396 non-null  float64\n",
      " 9   A10     43397 non-null  float64\n",
      " 10  A11     43361 non-null  float64\n",
      " 11  A12     43271 non-null  float64\n",
      " 12  A13     43278 non-null  float64\n",
      " 13  A14     43397 non-null  float64\n",
      " 14  A15     43369 non-null  float64\n",
      " 15  A16     43310 non-null  float64\n",
      " 16  A17     43311 non-null  float64\n",
      " 17  A18     43397 non-null  float64\n",
      " 18  A19     43277 non-null  float64\n",
      " 19  A20     43278 non-null  float64\n",
      " 20  A21     37551 non-null  float64\n",
      " 21  A22     43397 non-null  float64\n",
      " 22  A23     43278 non-null  float64\n",
      " 23  A24     42483 non-null  float64\n",
      " 24  A25     43397 non-null  float64\n",
      " 25  A26     43310 non-null  float64\n",
      " 26  A27     40641 non-null  float64\n",
      " 27  A28     42593 non-null  float64\n",
      " 28  A29     43397 non-null  float64\n",
      " 29  A30     43278 non-null  float64\n",
      " 30  A31     43278 non-null  float64\n",
      " 31  A32     43037 non-null  float64\n",
      " 32  A33     43271 non-null  float64\n",
      " 33  A34     43311 non-null  float64\n",
      " 34  A35     43397 non-null  float64\n",
      " 35  A36     43397 non-null  float64\n",
      " 36  A37     24421 non-null  float64\n",
      " 37  A38     43397 non-null  float64\n",
      " 38  A39     43278 non-null  float64\n",
      " 39  A40     43271 non-null  float64\n",
      " 40  A41     42651 non-null  float64\n",
      " 41  A42     43278 non-null  float64\n",
      " 42  A43     43278 non-null  float64\n",
      " 43  A44     43278 non-null  float64\n",
      " 44  A45     41258 non-null  float64\n",
      " 45  A46     43270 non-null  float64\n",
      " 46  A47     43108 non-null  float64\n",
      " 47  A48     43396 non-null  float64\n",
      " 48  A49     43278 non-null  float64\n",
      " 49  A50     43311 non-null  float64\n",
      " 50  A51     43397 non-null  float64\n",
      " 51  A52     43104 non-null  float64\n",
      " 52  A53     42593 non-null  float64\n",
      " 53  A54     42593 non-null  float64\n",
      " 54  A55     43404 non-null  float64\n",
      " 55  A56     43278 non-null  float64\n",
      " 56  A57     43398 non-null  float64\n",
      " 57  A58     43321 non-null  float64\n",
      " 58  A59     43398 non-null  float64\n",
      " 59  A60     41253 non-null  float64\n",
      " 60  A61     43303 non-null  float64\n",
      " 61  A62     43278 non-null  float64\n",
      " 62  A63     43271 non-null  float64\n",
      " 63  A64     42593 non-null  float64\n",
      " 64  class   43405 non-null  int64  \n",
      " 65  year    43405 non-null  int64  \n",
      "dtypes: float64(64), int64(2)\n",
      "memory usage: 21.9 MB\n"
     ]
    }
   ],
   "source": [
    "df.info()"
   ]
  },
  {
   "cell_type": "code",
   "execution_count": null,
   "id": "9556b0e4",
   "metadata": {},
   "outputs": [
    {
     "data": {
      "application/vnd.microsoft.datawrangler.viewer.v0+json": {
       "columns": [
        {
         "name": "index",
         "rawType": "object",
         "type": "string"
        },
        {
         "name": "0",
         "rawType": "int64",
         "type": "integer"
        }
       ],
       "ref": "78a7acde-e394-460a-984e-d7b522df6a10",
       "rows": [
        [
         "A1",
         "8"
        ],
        [
         "A2",
         "8"
        ],
        [
         "A3",
         "8"
        ],
        [
         "A4",
         "134"
        ],
        [
         "A5",
         "89"
        ],
        [
         "A6",
         "8"
        ],
        [
         "A7",
         "8"
        ],
        [
         "A8",
         "94"
        ],
        [
         "A9",
         "9"
        ],
        [
         "A10",
         "8"
        ],
        [
         "A11",
         "44"
        ],
        [
         "A12",
         "134"
        ],
        [
         "A13",
         "127"
        ],
        [
         "A14",
         "8"
        ],
        [
         "A15",
         "36"
        ],
        [
         "A16",
         "95"
        ],
        [
         "A17",
         "94"
        ],
        [
         "A18",
         "8"
        ],
        [
         "A19",
         "128"
        ],
        [
         "A20",
         "127"
        ],
        [
         "A21",
         "5854"
        ],
        [
         "A22",
         "8"
        ],
        [
         "A23",
         "127"
        ],
        [
         "A24",
         "922"
        ],
        [
         "A25",
         "8"
        ],
        [
         "A26",
         "95"
        ],
        [
         "A27",
         "2764"
        ],
        [
         "A28",
         "812"
        ],
        [
         "A29",
         "8"
        ],
        [
         "A30",
         "127"
        ],
        [
         "A31",
         "127"
        ],
        [
         "A32",
         "368"
        ],
        [
         "A33",
         "134"
        ],
        [
         "A34",
         "94"
        ],
        [
         "A35",
         "8"
        ],
        [
         "A36",
         "8"
        ],
        [
         "A37",
         "18984"
        ],
        [
         "A38",
         "8"
        ],
        [
         "A39",
         "127"
        ],
        [
         "A40",
         "134"
        ],
        [
         "A41",
         "754"
        ],
        [
         "A42",
         "127"
        ],
        [
         "A43",
         "127"
        ],
        [
         "A44",
         "127"
        ],
        [
         "A45",
         "2147"
        ],
        [
         "A46",
         "135"
        ],
        [
         "A47",
         "297"
        ],
        [
         "A48",
         "9"
        ],
        [
         "A49",
         "127"
        ],
        [
         "A50",
         "94"
        ]
       ],
       "shape": {
        "columns": 1,
        "rows": 66
       }
      },
      "text/plain": [
       "A1         8\n",
       "A2         8\n",
       "A3         8\n",
       "A4       134\n",
       "A5        89\n",
       "        ... \n",
       "A62      127\n",
       "A63      134\n",
       "A64      812\n",
       "class      0\n",
       "year       0\n",
       "Length: 66, dtype: int64"
      ]
     },
     "execution_count": 66,
     "metadata": {},
     "output_type": "execute_result"
    }
   ],
   "source": [
    "# Check for missing values\n",
    "# print(f\"\\nMissing values: {df.isnull().sum()}\")\n",
    "# Checking Nan presence\n",
    "\n",
    "df.isna().sum()\n",
    "# [print(col) for col in df if df[col].isna().sum() > 0]"
   ]
  },
  {
   "cell_type": "markdown",
   "id": "00dff7ab",
   "metadata": {},
   "source": [
    "#### Prepare the data"
   ]
  },
  {
   "cell_type": "code",
   "execution_count": null,
   "id": "bd445df9",
   "metadata": {},
   "outputs": [],
   "source": [
    "X = df.drop(columns=['class','year'])\n",
    "y = df['class']"
   ]
  },
  {
   "cell_type": "code",
   "execution_count": null,
   "id": "2eda2354",
   "metadata": {},
   "outputs": [
    {
     "data": {
      "text/plain": [
       "8"
      ]
     },
     "execution_count": 72,
     "metadata": {},
     "output_type": "execute_result"
    },
    {
     "data": {
      "image/png": "[encoded data removed]",
      "text/plain": [
       "<Figure size 500x500 with 1 Axes>"
      ]
     },
     "metadata": {},
     "output_type": "display_data"
    }
   ],
   "source": [
    "sns.displot(df, x='A21', kind='kde')\n",
    "# sns.boxplot(data=X, x='A20')\n",
    "X['A1'].isna().sum()\n",
    "# df['A20'].describe()"
   ]
  },
  {
   "cell_type": "markdown",
   "id": "1b398c11",
   "metadata": {},
   "source": [
    "By looking at the plot the distribution of the features have outliers. There are several discussion for the order of Standardization and Fill, but we will follow StF."
   ]
  },
  {
   "cell_type": "code",
   "execution_count": null,
   "id": "1a34100d",
   "metadata": {},
   "outputs": [
    {
     "data": {
      "text/plain": [
       "<seaborn.axisgrid.FacetGrid at 0x20ffd2c71f0>"
      ]
     },
     "execution_count": 73,
     "metadata": {},
     "output_type": "execute_result"
    },
    {
     "data": {
      "image/png": "[encoded data removed]",
      "text/plain": [
       "<Figure size 500x500 with 1 Axes>"
      ]
     },
     "metadata": {},
     "output_type": "display_data"
    }
   ],
   "source": [
    "scaler = StandardScaler()\n",
    "scaled = scaler.fit_transform(X)\n",
    "X_scaled = pd.DataFrame(scaled, columns=X.columns)\n",
    "# sns.boxplot(data=X_scaled, x='A1')\n",
    "sns.displot(X_scaled, x='A21', kind='kde')"
   ]
  },
  {
   "cell_type": "markdown",
   "id": "f192dc7a",
   "metadata": {},
   "source": [
    "Now we can deal with data with much smaller values"
   ]
  },
  {
   "cell_type": "markdown",
   "id": "542d302f",
   "metadata": {},
   "source": [
    "#### Missing values"
   ]
  },
  {
   "cell_type": "code",
   "execution_count": null,
   "id": "3a3128af",
   "metadata": {},
   "outputs": [
    {
     "data": {
      "application/vnd.microsoft.datawrangler.viewer.v0+json": {
       "columns": [
        {
         "name": "index",
         "rawType": "object",
         "type": "string"
        },
        {
         "name": "0",
         "rawType": "int64",
         "type": "integer"
        }
       ],
       "ref": "fa7ac1ce-bc12-43b2-ba13-db09154b4993",
       "rows": [
        [
         "A37",
         "18984"
        ],
        [
         "A21",
         "5854"
        ],
        [
         "A27",
         "2764"
        ],
        [
         "A60",
         "2152"
        ],
        [
         "A45",
         "2147"
        ],
        [
         "A24",
         "922"
        ],
        [
         "A28",
         "812"
        ],
        [
         "A64",
         "812"
        ],
        [
         "A53",
         "812"
        ],
        [
         "A54",
         "812"
        ],
        [
         "A41",
         "754"
        ],
        [
         "A32",
         "368"
        ],
        [
         "A52",
         "301"
        ],
        [
         "A47",
         "297"
        ],
        [
         "A46",
         "135"
        ],
        [
         "A40",
         "134"
        ],
        [
         "A63",
         "134"
        ],
        [
         "A33",
         "134"
        ],
        [
         "A4",
         "134"
        ],
        [
         "A12",
         "134"
        ],
        [
         "A19",
         "128"
        ],
        [
         "A31",
         "127"
        ],
        [
         "A62",
         "127"
        ],
        [
         "A56",
         "127"
        ],
        [
         "A49",
         "127"
        ],
        [
         "A44",
         "127"
        ],
        [
         "A43",
         "127"
        ],
        [
         "A20",
         "127"
        ],
        [
         "A39",
         "127"
        ],
        [
         "A13",
         "127"
        ],
        [
         "A42",
         "127"
        ],
        [
         "A30",
         "127"
        ],
        [
         "A23",
         "127"
        ],
        [
         "A61",
         "102"
        ],
        [
         "A16",
         "95"
        ],
        [
         "A26",
         "95"
        ],
        [
         "A34",
         "94"
        ],
        [
         "A50",
         "94"
        ],
        [
         "A17",
         "94"
        ],
        [
         "A8",
         "94"
        ],
        [
         "A5",
         "89"
        ],
        [
         "A58",
         "84"
        ],
        [
         "A11",
         "44"
        ],
        [
         "A15",
         "36"
        ],
        [
         "A9",
         "9"
        ],
        [
         "A48",
         "9"
        ],
        [
         "A7",
         "8"
        ],
        [
         "A22",
         "8"
        ],
        [
         "A18",
         "8"
        ],
        [
         "A3",
         "8"
        ]
       ],
       "shape": {
        "columns": 1,
        "rows": 64
       }
      },
      "text/plain": [
       "A37    18984\n",
       "A21     5854\n",
       "A27     2764\n",
       "A60     2152\n",
       "A45     2147\n",
       "       ...  \n",
       "A35        8\n",
       "A1         8\n",
       "A57        7\n",
       "A59        7\n",
       "A55        1\n",
       "Length: 64, dtype: int64"
      ]
     },
     "execution_count": 74,
     "metadata": {},
     "output_type": "execute_result"
    }
   ],
   "source": [
    "X_scaled.isna().sum().sort_values(ascending=False)"
   ]
  },
  {
   "cell_type": "code",
   "execution_count": null,
   "id": "f859fce6",
   "metadata": {},
   "outputs": [
    {
     "data": {
      "application/vnd.microsoft.datawrangler.viewer.v0+json": {
       "columns": [
        {
         "name": "index",
         "rawType": "object",
         "type": "string"
        },
        {
         "name": "Total",
         "rawType": "int64",
         "type": "integer"
        },
        {
         "name": "Percent %",
         "rawType": "float64",
         "type": "float"
        }
       ],
       "ref": "1fc77899-4d46-4afa-9487-35a3384d8bf1",
       "rows": [
        [
         "A37",
         "18984",
         "43.73689667089045"
        ],
        [
         "A21",
         "5854",
         "13.486925469415967"
        ],
        [
         "A27",
         "2764",
         "6.367929961985946"
        ],
        [
         "A60",
         "2152",
         "4.957954152747379"
        ],
        [
         "A45",
         "2147",
         "4.946434742541181"
        ],
        [
         "A24",
         "922",
         "2.1241792420228083"
        ],
        [
         "A28",
         "812",
         "1.8707522174864648"
        ],
        [
         "A64",
         "812",
         "1.8707522174864648"
        ],
        [
         "A53",
         "812",
         "1.8707522174864648"
        ],
        [
         "A54",
         "812",
         "1.8707522174864648"
        ],
        [
         "A41",
         "754",
         "1.7371270590945744"
        ],
        [
         "A32",
         "368",
         "0.8478285911761317"
        ],
        [
         "A52",
         "301",
         "0.693468494413086"
        ],
        [
         "A47",
         "297",
         "0.684252966248128"
        ],
        [
         "A46",
         "135",
         "0.3110240755673309"
        ],
        [
         "A40",
         "134",
         "0.3087201935260915"
        ],
        [
         "A63",
         "134",
         "0.3087201935260915"
        ],
        [
         "A33",
         "134",
         "0.3087201935260915"
        ],
        [
         "A4",
         "134",
         "0.3087201935260915"
        ],
        [
         "A12",
         "134",
         "0.3087201935260915"
        ]
       ],
       "shape": {
        "columns": 2,
        "rows": 20
       }
      },
      "text/html": [
       "<div>\n",
       "<style scoped>\n",
       "    .dataframe tbody tr th:only-of-type {\n",
       "        vertical-align: middle;\n",
       "    }\n",
       "\n",
       "    .dataframe tbody tr th {\n",
       "        vertical-align: top;\n",
       "    }\n",
       "\n",
       "    .dataframe thead th {\n",
       "        text-align: right;\n",
       "    }\n",
       "</style>\n",
       "<table border=\"1\" class=\"dataframe\">\n",
       "  <thead>\n",
       "    <tr style=\"text-align: right;\">\n",
       "      <th></th>\n",
       "      <th>Total</th>\n",
       "      <th>Percent %</th>\n",
       "    </tr>\n",
       "  </thead>\n",
       "  <tbody>\n",
       "    <tr>\n",
       "      <th>A37</th>\n",
       "      <td>18984</td>\n",
       "      <td>43.736897</td>\n",
       "    </tr>\n",
       "    <tr>\n",
       "      <th>A21</th>\n",
       "      <td>5854</td>\n",
       "      <td>13.486925</td>\n",
       "    </tr>\n",
       "    <tr>\n",
       "      <th>A27</th>\n",
       "      <td>2764</td>\n",
       "      <td>6.367930</td>\n",
       "    </tr>\n",
       "    <tr>\n",
       "      <th>A60</th>\n",
       "      <td>2152</td>\n",
       "      <td>4.957954</td>\n",
       "    </tr>\n",
       "    <tr>\n",
       "      <th>A45</th>\n",
       "      <td>2147</td>\n",
       "      <td>4.946435</td>\n",
       "    </tr>\n",
       "    <tr>\n",
       "      <th>A24</th>\n",
       "      <td>922</td>\n",
       "      <td>2.124179</td>\n",
       "    </tr>\n",
       "    <tr>\n",
       "      <th>A28</th>\n",
       "      <td>812</td>\n",
       "      <td>1.870752</td>\n",
       "    </tr>\n",
       "    <tr>\n",
       "      <th>A64</th>\n",
       "      <td>812</td>\n",
       "      <td>1.870752</td>\n",
       "    </tr>\n",
       "    <tr>\n",
       "      <th>A53</th>\n",
       "      <td>812</td>\n",
       "      <td>1.870752</td>\n",
       "    </tr>\n",
       "    <tr>\n",
       "      <th>A54</th>\n",
       "      <td>812</td>\n",
       "      <td>1.870752</td>\n",
       "    </tr>\n",
       "    <tr>\n",
       "      <th>A41</th>\n",
       "      <td>754</td>\n",
       "      <td>1.737127</td>\n",
       "    </tr>\n",
       "    <tr>\n",
       "      <th>A32</th>\n",
       "      <td>368</td>\n",
       "      <td>0.847829</td>\n",
       "    </tr>\n",
       "    <tr>\n",
       "      <th>A52</th>\n",
       "      <td>301</td>\n",
       "      <td>0.693468</td>\n",
       "    </tr>\n",
       "    <tr>\n",
       "      <th>A47</th>\n",
       "      <td>297</td>\n",
       "      <td>0.684253</td>\n",
       "    </tr>\n",
       "    <tr>\n",
       "      <th>A46</th>\n",
       "      <td>135</td>\n",
       "      <td>0.311024</td>\n",
       "    </tr>\n",
       "    <tr>\n",
       "      <th>A40</th>\n",
       "      <td>134</td>\n",
       "      <td>0.308720</td>\n",
       "    </tr>\n",
       "    <tr>\n",
       "      <th>A63</th>\n",
       "      <td>134</td>\n",
       "      <td>0.308720</td>\n",
       "    </tr>\n",
       "    <tr>\n",
       "      <th>A33</th>\n",
       "      <td>134</td>\n",
       "      <td>0.308720</td>\n",
       "    </tr>\n",
       "    <tr>\n",
       "      <th>A4</th>\n",
       "      <td>134</td>\n",
       "      <td>0.308720</td>\n",
       "    </tr>\n",
       "    <tr>\n",
       "      <th>A12</th>\n",
       "      <td>134</td>\n",
       "      <td>0.308720</td>\n",
       "    </tr>\n",
       "  </tbody>\n",
       "</table>\n",
       "</div>"
      ],
      "text/plain": [
       "     Total  Percent %\n",
       "A37  18984  43.736897\n",
       "A21   5854  13.486925\n",
       "A27   2764   6.367930\n",
       "A60   2152   4.957954\n",
       "A45   2147   4.946435\n",
       "A24    922   2.124179\n",
       "A28    812   1.870752\n",
       "A64    812   1.870752\n",
       "A53    812   1.870752\n",
       "A54    812   1.870752\n",
       "A41    754   1.737127\n",
       "A32    368   0.847829\n",
       "A52    301   0.693468\n",
       "A47    297   0.684253\n",
       "A46    135   0.311024\n",
       "A40    134   0.308720\n",
       "A63    134   0.308720\n",
       "A33    134   0.308720\n",
       "A4     134   0.308720\n",
       "A12    134   0.308720"
      ]
     },
     "execution_count": 75,
     "metadata": {},
     "output_type": "execute_result"
    }
   ],
   "source": [
    "total = X_scaled.isna().sum().sort_values(ascending=False)\n",
    "percent = X_scaled.isna().sum()/X_scaled.isna().count().sort_values(ascending=False) * 100\n",
    "missing_data = pd.concat([total, percent], axis=1, keys=['Total', 'Percent %'])\n",
    "missing_data.head(20)"
   ]
  },
  {
   "cell_type": "markdown",
   "id": "3b187ba9",
   "metadata": {},
   "source": [
    "As a general rule of thumb we can drop the columns with missing data more than 5%"
   ]
  },
  {
   "cell_type": "code",
   "execution_count": null,
   "id": "d1ff87d8",
   "metadata": {},
   "outputs": [],
   "source": [
    "columns_to_drop = ['A37', 'A21', 'A27']\n",
    "X_scaled = X_scaled.drop(columns_to_drop, axis=1)"
   ]
  },
  {
   "cell_type": "markdown",
   "id": "8cdbfa00",
   "metadata": {},
   "source": [
    "We will impute the remaining missing rows with the mean"
   ]
  },
  {
   "cell_type": "code",
   "execution_count": null,
   "id": "c9e2c50a",
   "metadata": {},
   "outputs": [
    {
     "data": {
      "text/plain": [
       "(43405, 61)"
      ]
     },
     "execution_count": 77,
     "metadata": {},
     "output_type": "execute_result"
    }
   ],
   "source": [
    "imputer = SimpleImputer(strategy='mean')\n",
    "X_imputed = imputer.fit_transform(X_scaled)\n",
    "X_imputed.shape"
   ]
  },
  {
   "cell_type": "code",
   "execution_count": null,
   "id": "d0287a70",
   "metadata": {},
   "outputs": [
    {
     "name": "stdout",
     "output_type": "stream",
     "text": [
      "class\n",
      "0    41314\n",
      "1     2091\n",
      "Name: count, dtype: int64\n",
      "------------------------------\n",
      "Financially stable:  95.18 % of the dataset\n",
      "Financially unstable:  4.82 % of the dataset\n"
     ]
    }
   ],
   "source": [
    "# The classes are heavily skewed we need to solve this issue later.\n",
    "\n",
    "print(df['class'].value_counts())\n",
    "print('-'* 30)\n",
    "print('Financially stable: ', round(df['class'].value_counts()[0]/len(df) * 100,2), '% of the dataset')\n",
    "print('Financially unstable: ', round(df['class'].value_counts()[1]/len(df) * 100,2), '% of the dataset')"
   ]
  },
  {
   "cell_type": "code",
   "execution_count": null,
   "id": "42afe0bf",
   "metadata": {},
   "outputs": [
    {
     "data": {
      "application/vnd.microsoft.datawrangler.viewer.v0+json": {
       "columns": [
        {
         "name": "class",
         "rawType": "int64",
         "type": "integer"
        },
        {
         "name": "count",
         "rawType": "int64",
         "type": "integer"
        }
       ],
       "ref": "ca5892d0-4349-4320-8975-6bad72d2b724",
       "rows": [
        [
         "0",
         "41314"
        ],
        [
         "1",
         "2091"
        ]
       ],
       "shape": {
        "columns": 1,
        "rows": 2
       }
      },
      "text/plain": [
       "class\n",
       "0    41314\n",
       "1     2091\n",
       "Name: count, dtype: int64"
      ]
     },
     "execution_count": 80,
     "metadata": {},
     "output_type": "execute_result"
    }
   ],
   "source": [
    "df['class'].value_counts()"
   ]
  },
  {
   "cell_type": "code",
   "execution_count": null,
   "id": "6d066846",
   "metadata": {},
   "outputs": [
    {
     "data": {
      "image/png": "[encoded data removed]",
      "text/plain": [
       "<Figure size 1000x500 with 1 Axes>"
      ]
     },
     "metadata": {},
     "output_type": "display_data"
    }
   ],
   "source": [
    "# Checking labels distributions\n",
    "\n",
    "plt.figure(figsize = (10,5))\n",
    "sns.countplot(df, x='class', hue='class', legend=False)\n",
    "plt.title('Class Distributions \\n (0: Fin. Stable || 1: Fin. Unstable)', fontsize=14)\n",
    "plt.show()"
   ]
  },
  {
   "cell_type": "markdown",
   "id": "fc8e6c17",
   "metadata": {},
   "source": [
    "#### Outliers removal"
   ]
  },
  {
   "cell_type": "code",
   "execution_count": null,
   "id": "bdea0036",
   "metadata": {},
   "outputs": [],
   "source": [
    "# Outliers removal\n",
    "\n",
    "def outliers_removal(feature,feature_name,dataset):\n",
    "    \n",
    "    # Identify 25th & 75th quartiles\n",
    "\n",
    "    q25, q75 = np.percentile(feature, 25), np.percentile(feature, 75)\n",
    "    print('Quartile 25: {} | Quartile 75: {}'.format(q25, q75))\n",
    "    feat_iqr = q75 - q25\n",
    "    print('iqr: {}'.format(feat_iqr))\n",
    "    \n",
    "    feat_cut_off = feat_iqr * 1.5\n",
    "    feat_lower, feat_upper = q25 - feat_cut_off, q75 + feat_cut_off\n",
    "    print('Cut Off: {}'.format(feat_cut_off))\n",
    "    print(feature_name +' Lower: {}'.format(feat_lower))\n",
    "    print(feature_name +' Upper: {}'.format(feat_upper))\n",
    "    \n",
    "    outliers = [x for x in feature if x < feat_lower or x > feat_upper]\n",
    "    print(feature_name + ' outliers for close to bankruptcy cases: {}'.format(len(outliers)))\n",
    "    #print(feature_name + ' outliers:{}'.format(outliers))\n",
    "\n",
    "    dataset = dataset.drop(dataset[(dataset[feature_name] > feat_upper) | (dataset[feature_name] < feat_lower)].index)\n",
    "    print('-' * 65)\n",
    "    \n",
    "    return dataset"
   ]
  },
  {
   "cell_type": "code",
   "execution_count": null,
   "id": "0917e4ca",
   "metadata": {},
   "outputs": [],
   "source": []
  },
  {
   "cell_type": "code",
   "execution_count": null,
   "id": "9a8c423a",
   "metadata": {},
   "outputs": [],
   "source": [
    "# Using z-score to remove outliers\n",
    "z_scores = zscore(df)\n",
    "\n",
    "outlier_threshold = 3.0 # Set a threshold for identifying outliers\n",
    "outliers_mask = np.abs(z_scores) > outlier_threshold"
   ]
  },
  {
   "cell_type": "code",
   "execution_count": null,
   "id": "1e1161e1",
   "metadata": {},
   "outputs": [
    {
     "data": {
      "text/plain": [
       "[Text(0.5, 1.0, 'Numeric Distribution of Features')]"
      ]
     },
     "execution_count": 85,
     "metadata": {},
     "output_type": "execute_result"
    },
    {
     "data": {
      "image/png": "[encoded data removed]",
      "text/plain": [
       "<Figure size 2000x2000 with 1 Axes>"
      ]
     },
     "metadata": {},
     "output_type": "display_data"
    }
   ],
   "source": [
    "# Create box plots for all numeric features\n",
    "f, ax = plt.subplots(figsize=(20, 20))\n",
    "# ax.set_xscale(\"log\")\n",
    "ax = sns.boxplot(data=X_scaled[X_scaled.columns] , orient=\"h\", palette=\"Set1\")\n",
    "ax.xaxis.grid(False)\n",
    "ax.set(ylabel=\"Feature names\")\n",
    "ax.set(xlabel=\"Numeric values\")\n",
    "ax.set(title=\"Numeric Distribution of Features\")"
   ]
  },
  {
   "cell_type": "code",
   "execution_count": null,
   "id": "d76281b9",
   "metadata": {},
   "outputs": [
    {
     "name": "stdout",
     "output_type": "stream",
     "text": [
      "Quartile 25: nan | Quartile 75: nan\n",
      "iqr: nan\n",
      "Cut Off: nan\n",
      "A1 Lower: nan\n",
      "A1 Upper: nan\n",
      "A1 outliers for close to bankruptcy cases: 0\n",
      "-----------------------------------------------------------------\n",
      "Quartile 25: nan | Quartile 75: nan\n",
      "iqr: nan\n",
      "Cut Off: nan\n",
      "A2 Lower: nan\n",
      "A2 Upper: nan\n",
      "A2 outliers for close to bankruptcy cases: 0\n",
      "-----------------------------------------------------------------\n",
      "Quartile 25: nan | Quartile 75: nan\n",
      "iqr: nan\n",
      "Cut Off: nan\n",
      "A3 Lower: nan\n",
      "A3 Upper: nan\n",
      "A3 outliers for close to bankruptcy cases: 0\n",
      "-----------------------------------------------------------------\n",
      "Quartile 25: nan | Quartile 75: nan\n",
      "iqr: nan\n",
      "Cut Off: nan\n",
      "A4 Lower: nan\n",
      "A4 Upper: nan\n",
      "A4 outliers for close to bankruptcy cases: 0\n",
      "-----------------------------------------------------------------\n",
      "Quartile 25: nan | Quartile 75: nan\n",
      "iqr: nan\n",
      "Cut Off: nan\n",
      "A5 Lower: nan\n",
      "A5 Upper: nan\n",
      "A5 outliers for close to bankruptcy cases: 0\n",
      "-----------------------------------------------------------------\n",
      "Quartile 25: nan | Quartile 75: nan\n",
      "iqr: nan\n",
      "Cut Off: nan\n",
      "A6 Lower: nan\n",
      "A6 Upper: nan\n",
      "A6 outliers for close to bankruptcy cases: 0\n",
      "-----------------------------------------------------------------\n",
      "Quartile 25: nan | Quartile 75: nan\n",
      "iqr: nan\n",
      "Cut Off: nan\n",
      "A7 Lower: nan\n",
      "A7 Upper: nan\n",
      "A7 outliers for close to bankruptcy cases: 0\n",
      "-----------------------------------------------------------------\n",
      "Quartile 25: nan | Quartile 75: nan\n",
      "iqr: nan\n",
      "Cut Off: nan\n",
      "A8 Lower: nan\n",
      "A8 Upper: nan\n",
      "A8 outliers for close to bankruptcy cases: 0\n",
      "-----------------------------------------------------------------\n",
      "Quartile 25: nan | Quartile 75: nan\n",
      "iqr: nan\n",
      "Cut Off: nan\n",
      "A9 Lower: nan\n",
      "A9 Upper: nan\n",
      "A9 outliers for close to bankruptcy cases: 0\n",
      "-----------------------------------------------------------------\n",
      "Quartile 25: nan | Quartile 75: nan\n",
      "iqr: nan\n",
      "Cut Off: nan\n",
      "A10 Lower: nan\n",
      "A10 Upper: nan\n",
      "A10 outliers for close to bankruptcy cases: 0\n",
      "-----------------------------------------------------------------\n",
      "Quartile 25: nan | Quartile 75: nan\n",
      "iqr: nan\n",
      "Cut Off: nan\n",
      "A11 Lower: nan\n",
      "A11 Upper: nan\n",
      "A11 outliers for close to bankruptcy cases: 0\n",
      "-----------------------------------------------------------------\n",
      "Quartile 25: nan | Quartile 75: nan\n",
      "iqr: nan\n",
      "Cut Off: nan\n",
      "A12 Lower: nan\n",
      "A12 Upper: nan\n",
      "A12 outliers for close to bankruptcy cases: 0\n",
      "-----------------------------------------------------------------\n",
      "Quartile 25: nan | Quartile 75: nan\n",
      "iqr: nan\n",
      "Cut Off: nan\n",
      "A13 Lower: nan\n",
      "A13 Upper: nan\n",
      "A13 outliers for close to bankruptcy cases: 0\n",
      "-----------------------------------------------------------------\n",
      "Quartile 25: nan | Quartile 75: nan\n",
      "iqr: nan\n",
      "Cut Off: nan\n",
      "A14 Lower: nan\n",
      "A14 Upper: nan\n",
      "A14 outliers for close to bankruptcy cases: 0\n",
      "-----------------------------------------------------------------\n",
      "Quartile 25: nan | Quartile 75: nan\n",
      "iqr: nan\n",
      "Cut Off: nan\n",
      "A15 Lower: nan\n",
      "A15 Upper: nan\n",
      "A15 outliers for close to bankruptcy cases: 0\n",
      "-----------------------------------------------------------------\n",
      "Quartile 25: nan | Quartile 75: nan\n",
      "iqr: nan\n",
      "Cut Off: nan\n",
      "A16 Lower: nan\n",
      "A16 Upper: nan\n",
      "A16 outliers for close to bankruptcy cases: 0\n",
      "-----------------------------------------------------------------\n",
      "Quartile 25: nan | Quartile 75: nan\n",
      "iqr: nan\n",
      "Cut Off: nan\n",
      "A17 Lower: nan\n",
      "A17 Upper: nan\n",
      "A17 outliers for close to bankruptcy cases: 0\n",
      "-----------------------------------------------------------------\n",
      "Quartile 25: nan | Quartile 75: nan\n",
      "iqr: nan\n",
      "Cut Off: nan\n",
      "A18 Lower: nan\n",
      "A18 Upper: nan\n",
      "A18 outliers for close to bankruptcy cases: 0\n",
      "-----------------------------------------------------------------\n",
      "Quartile 25: nan | Quartile 75: nan\n",
      "iqr: nan\n",
      "Cut Off: nan\n",
      "A19 Lower: nan\n",
      "A19 Upper: nan\n",
      "A19 outliers for close to bankruptcy cases: 0\n",
      "-----------------------------------------------------------------\n",
      "Quartile 25: nan | Quartile 75: nan\n",
      "iqr: nan\n",
      "Cut Off: nan\n",
      "A20 Lower: nan\n",
      "A20 Upper: nan\n",
      "A20 outliers for close to bankruptcy cases: 0\n",
      "-----------------------------------------------------------------\n",
      "Quartile 25: nan | Quartile 75: nan\n",
      "iqr: nan\n",
      "Cut Off: nan\n",
      "A22 Lower: nan\n",
      "A22 Upper: nan\n",
      "A22 outliers for close to bankruptcy cases: 0\n",
      "-----------------------------------------------------------------\n",
      "Quartile 25: nan | Quartile 75: nan\n",
      "iqr: nan\n",
      "Cut Off: nan\n",
      "A23 Lower: nan\n",
      "A23 Upper: nan\n",
      "A23 outliers for close to bankruptcy cases: 0\n",
      "-----------------------------------------------------------------\n",
      "Quartile 25: nan | Quartile 75: nan\n",
      "iqr: nan\n",
      "Cut Off: nan\n",
      "A24 Lower: nan\n",
      "A24 Upper: nan\n",
      "A24 outliers for close to bankruptcy cases: 0\n",
      "-----------------------------------------------------------------\n",
      "Quartile 25: nan | Quartile 75: nan\n",
      "iqr: nan\n",
      "Cut Off: nan\n",
      "A25 Lower: nan\n",
      "A25 Upper: nan\n",
      "A25 outliers for close to bankruptcy cases: 0\n",
      "-----------------------------------------------------------------\n",
      "Quartile 25: nan | Quartile 75: nan\n",
      "iqr: nan\n",
      "Cut Off: nan\n",
      "A26 Lower: nan\n",
      "A26 Upper: nan\n",
      "A26 outliers for close to bankruptcy cases: 0\n",
      "-----------------------------------------------------------------\n",
      "Quartile 25: nan | Quartile 75: nan\n",
      "iqr: nan\n",
      "Cut Off: nan\n",
      "A28 Lower: nan\n",
      "A28 Upper: nan\n",
      "A28 outliers for close to bankruptcy cases: 0\n",
      "-----------------------------------------------------------------\n",
      "Quartile 25: nan | Quartile 75: nan\n",
      "iqr: nan\n",
      "Cut Off: nan\n",
      "A29 Lower: nan\n",
      "A29 Upper: nan\n",
      "A29 outliers for close to bankruptcy cases: 0\n",
      "-----------------------------------------------------------------\n",
      "Quartile 25: nan | Quartile 75: nan\n",
      "iqr: nan\n",
      "Cut Off: nan\n",
      "A30 Lower: nan\n",
      "A30 Upper: nan\n",
      "A30 outliers for close to bankruptcy cases: 0\n",
      "-----------------------------------------------------------------\n",
      "Quartile 25: nan | Quartile 75: nan\n",
      "iqr: nan\n",
      "Cut Off: nan\n",
      "A31 Lower: nan\n",
      "A31 Upper: nan\n",
      "A31 outliers for close to bankruptcy cases: 0\n",
      "-----------------------------------------------------------------\n",
      "Quartile 25: nan | Quartile 75: nan\n",
      "iqr: nan\n",
      "Cut Off: nan\n",
      "A32 Lower: nan\n",
      "A32 Upper: nan\n",
      "A32 outliers for close to bankruptcy cases: 0\n",
      "-----------------------------------------------------------------\n",
      "Quartile 25: nan | Quartile 75: nan\n",
      "iqr: nan\n",
      "Cut Off: nan\n",
      "A33 Lower: nan\n",
      "A33 Upper: nan\n",
      "A33 outliers for close to bankruptcy cases: 0\n",
      "-----------------------------------------------------------------\n",
      "Quartile 25: nan | Quartile 75: nan\n",
      "iqr: nan\n",
      "Cut Off: nan\n",
      "A34 Lower: nan\n",
      "A34 Upper: nan\n",
      "A34 outliers for close to bankruptcy cases: 0\n",
      "-----------------------------------------------------------------\n",
      "Quartile 25: nan | Quartile 75: nan\n",
      "iqr: nan\n",
      "Cut Off: nan\n",
      "A35 Lower: nan\n",
      "A35 Upper: nan\n",
      "A35 outliers for close to bankruptcy cases: 0\n",
      "-----------------------------------------------------------------\n",
      "Quartile 25: nan | Quartile 75: nan\n",
      "iqr: nan\n",
      "Cut Off: nan\n",
      "A36 Lower: nan\n",
      "A36 Upper: nan\n",
      "A36 outliers for close to bankruptcy cases: 0\n",
      "-----------------------------------------------------------------\n",
      "Quartile 25: nan | Quartile 75: nan\n",
      "iqr: nan\n",
      "Cut Off: nan\n",
      "A38 Lower: nan\n",
      "A38 Upper: nan\n",
      "A38 outliers for close to bankruptcy cases: 0\n",
      "-----------------------------------------------------------------\n",
      "Quartile 25: nan | Quartile 75: nan\n",
      "iqr: nan\n",
      "Cut Off: nan\n",
      "A39 Lower: nan\n",
      "A39 Upper: nan\n",
      "A39 outliers for close to bankruptcy cases: 0\n",
      "-----------------------------------------------------------------\n",
      "Quartile 25: nan | Quartile 75: nan\n",
      "iqr: nan\n",
      "Cut Off: nan\n",
      "A40 Lower: nan\n",
      "A40 Upper: nan\n",
      "A40 outliers for close to bankruptcy cases: 0\n",
      "-----------------------------------------------------------------\n",
      "Quartile 25: nan | Quartile 75: nan\n",
      "iqr: nan\n",
      "Cut Off: nan\n",
      "A41 Lower: nan\n",
      "A41 Upper: nan\n",
      "A41 outliers for close to bankruptcy cases: 0\n",
      "-----------------------------------------------------------------\n",
      "Quartile 25: nan | Quartile 75: nan\n",
      "iqr: nan\n",
      "Cut Off: nan\n",
      "A42 Lower: nan\n",
      "A42 Upper: nan\n",
      "A42 outliers for close to bankruptcy cases: 0\n",
      "-----------------------------------------------------------------\n",
      "Quartile 25: nan | Quartile 75: nan\n",
      "iqr: nan\n",
      "Cut Off: nan\n",
      "A43 Lower: nan\n",
      "A43 Upper: nan\n",
      "A43 outliers for close to bankruptcy cases: 0\n",
      "-----------------------------------------------------------------\n",
      "Quartile 25: nan | Quartile 75: nan\n",
      "iqr: nan\n",
      "Cut Off: nan\n",
      "A44 Lower: nan\n",
      "A44 Upper: nan\n",
      "A44 outliers for close to bankruptcy cases: 0\n",
      "-----------------------------------------------------------------\n",
      "Quartile 25: nan | Quartile 75: nan\n",
      "iqr: nan\n",
      "Cut Off: nan\n",
      "A45 Lower: nan\n",
      "A45 Upper: nan\n",
      "A45 outliers for close to bankruptcy cases: 0\n",
      "-----------------------------------------------------------------\n",
      "Quartile 25: nan | Quartile 75: nan\n",
      "iqr: nan\n",
      "Cut Off: nan\n",
      "A46 Lower: nan\n",
      "A46 Upper: nan\n",
      "A46 outliers for close to bankruptcy cases: 0\n",
      "-----------------------------------------------------------------\n",
      "Quartile 25: nan | Quartile 75: nan\n",
      "iqr: nan\n",
      "Cut Off: nan\n",
      "A47 Lower: nan\n",
      "A47 Upper: nan\n",
      "A47 outliers for close to bankruptcy cases: 0\n",
      "-----------------------------------------------------------------\n",
      "Quartile 25: nan | Quartile 75: nan\n",
      "iqr: nan\n",
      "Cut Off: nan\n",
      "A48 Lower: nan\n",
      "A48 Upper: nan\n",
      "A48 outliers for close to bankruptcy cases: 0\n",
      "-----------------------------------------------------------------\n",
      "Quartile 25: nan | Quartile 75: nan\n",
      "iqr: nan\n",
      "Cut Off: nan\n",
      "A49 Lower: nan\n",
      "A49 Upper: nan\n",
      "A49 outliers for close to bankruptcy cases: 0\n",
      "-----------------------------------------------------------------\n",
      "Quartile 25: nan | Quartile 75: nan\n",
      "iqr: nan\n",
      "Cut Off: nan\n",
      "A50 Lower: nan\n",
      "A50 Upper: nan\n",
      "A50 outliers for close to bankruptcy cases: 0\n",
      "-----------------------------------------------------------------\n",
      "Quartile 25: nan | Quartile 75: nan\n",
      "iqr: nan\n",
      "Cut Off: nan\n",
      "A51 Lower: nan\n",
      "A51 Upper: nan\n",
      "A51 outliers for close to bankruptcy cases: 0\n",
      "-----------------------------------------------------------------\n",
      "Quartile 25: nan | Quartile 75: nan\n",
      "iqr: nan\n",
      "Cut Off: nan\n",
      "A52 Lower: nan\n",
      "A52 Upper: nan\n",
      "A52 outliers for close to bankruptcy cases: 0\n",
      "-----------------------------------------------------------------\n",
      "Quartile 25: nan | Quartile 75: nan\n",
      "iqr: nan\n",
      "Cut Off: nan\n",
      "A53 Lower: nan\n",
      "A53 Upper: nan\n",
      "A53 outliers for close to bankruptcy cases: 0\n",
      "-----------------------------------------------------------------\n",
      "Quartile 25: nan | Quartile 75: nan\n",
      "iqr: nan\n",
      "Cut Off: nan\n",
      "A54 Lower: nan\n",
      "A54 Upper: nan\n",
      "A54 outliers for close to bankruptcy cases: 0\n",
      "-----------------------------------------------------------------\n",
      "Quartile 25: nan | Quartile 75: nan\n",
      "iqr: nan\n",
      "Cut Off: nan\n",
      "A55 Lower: nan\n",
      "A55 Upper: nan\n",
      "A55 outliers for close to bankruptcy cases: 0\n",
      "-----------------------------------------------------------------\n",
      "Quartile 25: nan | Quartile 75: nan\n",
      "iqr: nan\n",
      "Cut Off: nan\n",
      "A56 Lower: nan\n",
      "A56 Upper: nan\n",
      "A56 outliers for close to bankruptcy cases: 0\n",
      "-----------------------------------------------------------------\n",
      "Quartile 25: nan | Quartile 75: nan\n",
      "iqr: nan\n",
      "Cut Off: nan\n",
      "A57 Lower: nan\n",
      "A57 Upper: nan\n",
      "A57 outliers for close to bankruptcy cases: 0\n",
      "-----------------------------------------------------------------\n",
      "Quartile 25: nan | Quartile 75: nan\n",
      "iqr: nan\n",
      "Cut Off: nan\n",
      "A58 Lower: nan\n",
      "A58 Upper: nan\n",
      "A58 outliers for close to bankruptcy cases: 0\n",
      "-----------------------------------------------------------------\n",
      "Quartile 25: nan | Quartile 75: nan\n",
      "iqr: nan\n",
      "Cut Off: nan\n",
      "A59 Lower: nan\n",
      "A59 Upper: nan\n",
      "A59 outliers for close to bankruptcy cases: 0\n",
      "-----------------------------------------------------------------\n",
      "Quartile 25: nan | Quartile 75: nan\n",
      "iqr: nan\n",
      "Cut Off: nan\n",
      "A60 Lower: nan\n",
      "A60 Upper: nan\n",
      "A60 outliers for close to bankruptcy cases: 0\n",
      "-----------------------------------------------------------------\n",
      "Quartile 25: nan | Quartile 75: nan\n",
      "iqr: nan\n",
      "Cut Off: nan\n",
      "A61 Lower: nan\n",
      "A61 Upper: nan\n",
      "A61 outliers for close to bankruptcy cases: 0\n",
      "-----------------------------------------------------------------\n",
      "Quartile 25: nan | Quartile 75: nan\n",
      "iqr: nan\n",
      "Cut Off: nan\n",
      "A62 Lower: nan\n",
      "A62 Upper: nan\n",
      "A62 outliers for close to bankruptcy cases: 0\n",
      "-----------------------------------------------------------------\n",
      "Quartile 25: nan | Quartile 75: nan\n",
      "iqr: nan\n",
      "Cut Off: nan\n",
      "A63 Lower: nan\n",
      "A63 Upper: nan\n",
      "A63 outliers for close to bankruptcy cases: 0\n",
      "-----------------------------------------------------------------\n",
      "Quartile 25: nan | Quartile 75: nan\n",
      "iqr: nan\n",
      "Cut Off: nan\n",
      "A64 Lower: nan\n",
      "A64 Upper: nan\n",
      "A64 outliers for close to bankruptcy cases: 0\n",
      "-----------------------------------------------------------------\n"
     ]
    }
   ],
   "source": [
    "for col in X_scaled:\n",
    "    new_X_scaled = outliers_removal(X_scaled[col],str(col),X_scaled)"
   ]
  },
  {
   "cell_type": "code",
   "execution_count": null,
   "id": "becc58ec",
   "metadata": {},
   "outputs": [],
   "source": []
  }
 ],
 "metadata": {
  "kernelspec": {
   "display_name": "Python 3",
   "language": "python",
   "name": "python3"
  },
  "language_info": {
   "codemirror_mode": {
    "name": "ipython",
    "version": 3
   },
   "file_extension": ".py",
   "mimetype": "text/x-python",
   "name": "python",
   "nbconvert_exporter": "python",
   "pygments_lexer": "ipython3",
   "version": "3.13.6"
  }
 },
 "nbformat": 4,
 "nbformat_minor": 5
}
